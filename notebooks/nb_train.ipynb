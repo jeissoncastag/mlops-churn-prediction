{
 "cells": [
  {
   "cell_type": "code",
   "execution_count": 14,
   "metadata": {},
   "outputs": [],
   "source": [
    "import mlflow\n",
    "import pandas as pd\n",
    "import matplotlib.pyplot as plt\n",
    "from sklearn.model_selection import train_test_split\n",
    "from sklearn.ensemble import RandomForestClassifier\n",
    "from sklearn.metrics import accuracy_score, f1_score\n",
    "from sklearn.preprocessing import LabelEncoder\n",
    "from sklearn.preprocessing import StandardScaler\n",
    "from sklearn.metrics import confusion_matrix, ConfusionMatrixDisplay\n",
    "import mlflow\n",
    "import joblib"
   ]
  },
  {
   "cell_type": "code",
   "execution_count": 15,
   "metadata": {},
   "outputs": [
    {
     "name": "stdout",
     "output_type": "stream",
     "text": [
      "   customerID  gender  SeniorCitizen Partner Dependents  tenure PhoneService  \\\n",
      "0  9313-QOLTZ    Male              0      No         No      26          Yes   \n",
      "1  6654-QGBZZ  Female              0      No         No       1          Yes   \n",
      "2  6877-LGWXO    Male              1     Yes         No      18          Yes   \n",
      "3  8020-BWHYL  Female              1      No         No      15          Yes   \n",
      "4  3594-IVHJZ  Female              0      No         No       2          Yes   \n",
      "\n",
      "  MultipleLines InternetService       OnlineSecurity  ...  \\\n",
      "0            No              No  No internet service  ...   \n",
      "1            No              No  No internet service  ...   \n",
      "2            No     Fiber optic                   No  ...   \n",
      "3            No     Fiber optic                   No  ...   \n",
      "4            No              No  No internet service  ...   \n",
      "\n",
      "      DeviceProtection          TechSupport          StreamingTV  \\\n",
      "0  No internet service  No internet service  No internet service   \n",
      "1  No internet service  No internet service  No internet service   \n",
      "2                   No                   No                   No   \n",
      "3                   No                   No                   No   \n",
      "4  No internet service  No internet service  No internet service   \n",
      "\n",
      "       StreamingMovies        Contract PaperlessBilling  \\\n",
      "0  No internet service  Month-to-month               No   \n",
      "1  No internet service  Month-to-month               No   \n",
      "2                  Yes  Month-to-month               No   \n",
      "3                   No  Month-to-month              Yes   \n",
      "4  No internet service  Month-to-month              Yes   \n",
      "\n",
      "             PaymentMethod MonthlyCharges  TotalCharges Churn  \n",
      "0             Mailed check          20.90         518.3    No  \n",
      "1             Mailed check          19.90          19.9    No  \n",
      "2         Electronic check          78.55       1422.65   Yes  \n",
      "3  Credit card (automatic)          75.30       1147.45   Yes  \n",
      "4             Mailed check          20.45         42.45    No  \n",
      "\n",
      "[5 rows x 21 columns]\n",
      "Churn\n",
      "No     4663\n",
      "Yes    1675\n",
      "Name: count, dtype: int64\n"
     ]
    }
   ],
   "source": [
    "# Cargar datos\n",
    "data = pd.read_csv(\"../data/churn_data.csv\")\n",
    "\n",
    "# Explorar datos\n",
    "print(data.head())\n",
    "print(data[\"Churn\"].value_counts())"
   ]
  },
  {
   "cell_type": "code",
   "execution_count": 16,
   "metadata": {},
   "outputs": [
    {
     "name": "stdout",
     "output_type": "stream",
     "text": [
      "   customerID  gender  SeniorCitizen  Partner  Dependents  tenure  \\\n",
      "0        5900       1              0        0           0      26   \n",
      "1        4246       0              0        0           0       1   \n",
      "2        4387       1              1        1           0      18   \n",
      "3        5102       0              1        0           0      15   \n",
      "4        2265       0              0        0           0       2   \n",
      "\n",
      "   PhoneService  MultipleLines  InternetService  OnlineSecurity  ...  \\\n",
      "0             1              0                2               1  ...   \n",
      "1             1              0                2               1  ...   \n",
      "2             1              0                1               0  ...   \n",
      "3             1              0                1               0  ...   \n",
      "4             1              0                2               1  ...   \n",
      "\n",
      "   DeviceProtection  TechSupport  StreamingTV  StreamingMovies  Contract  \\\n",
      "0                 1            1            1                1         0   \n",
      "1                 1            1            1                1         0   \n",
      "2                 0            0            0                2         0   \n",
      "3                 0            0            0                0         0   \n",
      "4                 1            1            1                1         0   \n",
      "\n",
      "   PaperlessBilling  PaymentMethod  MonthlyCharges  TotalCharges  Churn  \n",
      "0                 0              3           20.90          3938      0  \n",
      "1                 0              3           19.90          1347      0  \n",
      "2                 0              2           78.55           698      1  \n",
      "3                 1              1           75.30           254      1  \n",
      "4                 1              3           20.45          3244      0  \n",
      "\n",
      "[5 rows x 21 columns]\n"
     ]
    }
   ],
   "source": [
    "# Identificar columnas categóricas\n",
    "categorical_columns = data.select_dtypes(include=[\"object\"]).columns\n",
    "\n",
    "# Aplicar Label Encoding a cada columna categórica\n",
    "label_encoders = {}\n",
    "for col in categorical_columns:\n",
    "    le = LabelEncoder()\n",
    "    data[col] = le.fit_transform(data[col])\n",
    "    label_encoders[col] = le  # Guardar el encoder para uso futuro\n",
    "\n",
    "print(data.head())"
   ]
  },
  {
   "cell_type": "code",
   "execution_count": 17,
   "metadata": {},
   "outputs": [
    {
     "name": "stdout",
     "output_type": "stream",
     "text": [
      "   customerID  gender  SeniorCitizen  Partner  Dependents    tenure  \\\n",
      "0        5900       1      -0.439230        0           0 -0.259164   \n",
      "1        4246       0      -0.439230        0           0 -1.278108   \n",
      "2        4387       1       2.276711        1           0 -0.585226   \n",
      "3        5102       0       2.276711        0           0 -0.707499   \n",
      "4        2265       0      -0.439230        0           0 -1.237350   \n",
      "\n",
      "   PhoneService  MultipleLines  InternetService  OnlineSecurity  ...  \\\n",
      "0             1              0                2               1  ...   \n",
      "1             1              0                2               1  ...   \n",
      "2             1              0                1               0  ...   \n",
      "3             1              0                1               0  ...   \n",
      "4             1              0                2               1  ...   \n",
      "\n",
      "   DeviceProtection  TechSupport  StreamingTV  StreamingMovies  Contract  \\\n",
      "0                 1            1            1                1         0   \n",
      "1                 1            1            1                1         0   \n",
      "2                 0            0            0                2         0   \n",
      "3                 0            0            0                0         0   \n",
      "4                 1            1            1                1         0   \n",
      "\n",
      "   PaperlessBilling  PaymentMethod  MonthlyCharges  TotalCharges  Churn  \n",
      "0                 0              3       -1.453080          3938      0  \n",
      "1                 0              3       -1.486260          1347      0  \n",
      "2                 0              2        0.459751           698      1  \n",
      "3                 1              1        0.351916           254      1  \n",
      "4                 1              3       -1.468011          3244      0  \n",
      "\n",
      "[5 rows x 21 columns]\n"
     ]
    }
   ],
   "source": [
    "# Identificar columnas numéricas\n",
    "numeric_columns = data.select_dtypes(include=[\"int64\", \"float64\"]).columns\n",
    "\n",
    "# Aplicar Standard Scaler a cada columna numérica\n",
    "scaler = StandardScaler()\n",
    "data[numeric_columns] = scaler.fit_transform(data[numeric_columns])\n",
    "\n",
    "print(data.head())"
   ]
  },
  {
   "cell_type": "code",
   "execution_count": 18,
   "metadata": {},
   "outputs": [],
   "source": [
    "# Dividir datos\n",
    "X = data.drop(\"Churn\", axis=1)\n",
    "y = data[\"Churn\"]\n",
    "X_train, X_test, y_train, y_test = train_test_split(X, y, test_size=0.2, random_state=42)"
   ]
  },
  {
   "cell_type": "code",
   "execution_count": 19,
   "metadata": {},
   "outputs": [
    {
     "name": "stdout",
     "output_type": "stream",
     "text": [
      "Accuracy: 0.7996845425867508\n",
      "F1 Score: 0.5665529010238908\n"
     ]
    }
   ],
   "source": [
    "# Entrenar modelo\n",
    "model = RandomForestClassifier(n_estimators=100, random_state=42)\n",
    "model.fit(X_train, y_train)\n",
    "\n",
    "# Evaluar modelo\n",
    "y_pred = model.predict(X_test)\n",
    "print(\"Accuracy:\", accuracy_score(y_test, y_pred))\n",
    "print(\"F1 Score:\", f1_score(y_test, y_pred))"
   ]
  },
  {
   "cell_type": "code",
   "execution_count": 20,
   "metadata": {},
   "outputs": [
    {
     "data": {
      "image/png": "[encoded data removed]",
      "text/plain": [
       "<Figure size 640x480 with 2 Axes>"
      ]
     },
     "metadata": {},
     "output_type": "display_data"
    }
   ],
   "source": [
    "# Matriz de confusión\n",
    "cm = confusion_matrix(y_test, y_pred)\n",
    "disp = ConfusionMatrixDisplay(confusion_matrix=cm)\n",
    "disp.plot()\n",
    "plt.show()"
   ]
  },
  {
   "cell_type": "code",
   "execution_count": 21,
   "metadata": {},
   "outputs": [
    {
     "data": {
      "text/plain": [
       "['../artifacts/scaler.pkl']"
      ]
     },
     "execution_count": 21,
     "metadata": {},
     "output_type": "execute_result"
    }
   ],
   "source": [
    "# Guardar LabelEncoders\n",
    "joblib.dump(label_encoders, \"../artifacts/label_encoders.pkl\")\n",
    "\n",
    "# Guardar StandardScaler\n",
    "joblib.dump(scaler, \"../artifacts/scaler.pkl\")"
   ]
  },
  {
   "cell_type": "code",
   "execution_count": 22,
   "metadata": {},
   "outputs": [
    {
     "name": "stderr",
     "output_type": "stream",
     "text": [
      "2025/03/11 23:15:14 WARNING mlflow.models.model: Model logged without a signature and input example. Please set `input_example` parameter when logging the model to auto infer the model signature.\n"
     ]
    }
   ],
   "source": [
    "# Configurar MLflow\n",
    "#mlflow.set_tracking_uri(\"http://127.0.0.1:5000\")  # URL del servidor de MLflow\n",
    "mlflow.set_experiment(\"Churn Prediction\")        # Nombre del experimento\n",
    "\n",
    "with mlflow.start_run():\n",
    "    # Entrenar modelo\n",
    "    model = RandomForestClassifier(n_estimators=100, random_state=42)\n",
    "    model.fit(X_train, y_train)\n",
    "\n",
    "    # Evaluar modelo\n",
    "    y_pred = model.predict(X_test)\n",
    "    accuracy = accuracy_score(y_test, y_pred)\n",
    "    f1 = f1_score(y_test, y_pred)\n",
    "\n",
    "    # Registrar métricas y modelo\n",
    "    mlflow.log_metric(\"accuracy\", accuracy)\n",
    "    mlflow.log_metric(\"f1_score\", f1)\n",
    "    mlflow.sklearn.log_model(model, \"model\")"
   ]
  },
  {
   "cell_type": "code",
   "execution_count": 23,
   "metadata": {},
   "outputs": [
    {
     "name": "stdout",
     "output_type": "stream",
     "text": [
      "MLflow tracking URI: file:///c:/Users/jeisson.castano_prag/Documents/mlops-churn-prediction/notebooks/mlruns\n"
     ]
    }
   ],
   "source": [
    "import mlflow\n",
    "\n",
    "print(\"MLflow tracking URI:\", mlflow.get_tracking_uri())\n"
   ]
  },
  {
   "cell_type": "code",
   "execution_count": 24,
   "metadata": {},
   "outputs": [],
   "source": [
    "mlflow.set_tracking_uri(\"file:///C:/Users/jeisson.castano_prag/Documents/mlops-churn-prediction/mlruns\")\n"
   ]
  }
 ],
 "metadata": {
  "kernelspec": {
   "display_name": "Python 3",
   "language": "python",
   "name": "python3"
  },
  "language_info": {
   "codemirror_mode": {
    "name": "ipython",
    "version": 3
   },
   "file_extension": ".py",
   "mimetype": "text/x-python",
   "name": "python",
   "nbconvert_exporter": "python",
   "pygments_lexer": "ipython3",
   "version": "3.10.10"
  }
 },
 "nbformat": 4,
 "nbformat_minor": 2
}
